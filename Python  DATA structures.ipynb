{
 "cells": [
  {
   "cell_type": "markdown",
   "metadata": {},
   "source": [
    "# 1. Linked Lists"
   ]
  },
  {
   "cell_type": "code",
   "execution_count": 4,
   "metadata": {},
   "outputs": [],
   "source": [
    "## Linked Node class\n",
    "class Node:\n",
    "    def __init__(self , data_node=0, next_node=None):\n",
    "        self.data = data_node\n",
    "        self.next = next_node\n",
    " \n",
    "    def insert_after(self, new_node):\n",
    "#Insert new_node after the self node '''\n",
    "        new_node.next = self.next\n",
    "        self.next = new_node\n",
    "  \n",
    "    def delete_self(self):\n",
    "#delete self node'''\n",
    "        self.data=self.next\n",
    "        if self.next != None:\n",
    "            self.next=self.next.next    \n",
    "        else:\n",
    "            del self.next\n",
    "\n",
    "    def delete_after(self) :\n",
    "#Delete the node past this one.'''\n",
    "        if self.next is not None:\n",
    "            self.next = self.next.next\n",
    " \n",
    "    def __str__(self):\n",
    "        return str(self.data)\n",
    " "
   ]
  },
  {
   "cell_type": "code",
   "execution_count": 11,
   "metadata": {},
   "outputs": [],
   "source": [
    "## Linked List class\n",
    "class LinkedList: \n",
    "    \n",
    "    def __init__(self, head = None):\n",
    "        self.head = head\n",
    "\n",
    "    def from_list(X):\n",
    "        ''' Create LinkedList from a List '''\n",
    "        if not(X):\n",
    "          # The list is empty\n",
    "          return LinkedList()\n",
    "        LL = LinkedList(Node(X[0])) \n",
    "        last = LL.head\n",
    "        for i in range(1,len(X)):\n",
    "            last.next = Node(X[i])\n",
    "            last = last.next \n",
    "        return LL\n",
    " \n",
    "    def get(self, k):\n",
    "        ''' Get the k th element '''\n",
    "        L = self.head\n",
    "        i = 0\n",
    "        while i < k and L:\n",
    "            L = L.next\n",
    "            i += 1\n",
    "        return L\n",
    " \n",
    "  \n",
    "    def insert(self, index, data):\n",
    "        ''' Insert data at index '''\n",
    "        if index == 0:\n",
    "            N = Node(data)\n",
    "            N.next = self.head\n",
    "            self.head = N\n",
    "            return\n",
    "        L = self.head\n",
    "        i = 0\n",
    "        while i < index-1 and L:\n",
    "            prev, L = L, L.next\n",
    "            i += 1\n",
    "        if L:\n",
    "            L.insert_after(Node(data))\n",
    "        elif i == index - 1:\n",
    "            prev.insert_after(Node(data))\n",
    "        else:\n",
    "            raise KeyError(f'The Linked List has less than {index-1} elements')\n",
    " \n",
    "    def delete(self, index):\n",
    "    #''' delete node at index '''\n",
    "        if index == 0 :\n",
    "            if self.head:\n",
    "                self.head = self.head.next\n",
    "                return\n",
    "        L = self.head\n",
    "        i = 0\n",
    "        while i < index-1 and L:\n",
    "            L = L.next\n",
    "            i += 1\n",
    "        if L:\n",
    "            L.delete_after()\n",
    " \n",
    "    def search_key(self, key):\n",
    "    #''' return the node which data equals to key. If it does not exist, return None'''\n",
    "        L = self.head\n",
    "        while L and L.data != key :\n",
    "            L = L.next\n",
    "        return L\n",
    "  \n",
    "    def __str__(self):\n",
    "        ''' print the Linked List '''\n",
    "        s = []\n",
    "        head = self.head\n",
    "        while(head):\n",
    "            s.append(str(head.data))\n",
    "            if hasattr(head, 'next'):\n",
    "                head = head.next \n",
    "            else:\n",
    "                return \" -> \".join(s) \n",
    "\n",
    "        return \" -> \".join(s)+' -> None'"
   ]
  },
  {
   "cell_type": "code",
   "execution_count": 12,
   "metadata": {},
   "outputs": [
    {
     "data": {
      "text/plain": [
       "'zz -> aa -> dd -> None'"
      ]
     },
     "execution_count": 12,
     "metadata": {},
     "output_type": "execute_result"
    }
   ],
   "source": [
    "node1 = Node(\"zz\") # instanciation d'objet 1 de type Node\n",
    "node2 = Node(\"aa\") # instanciation d'objet 2\n",
    "node3 = Node(\"dd\") # instanciation d'objet 3\n",
    "\n",
    "node1.insert_after(node2)\n",
    "node2.insert_after(node3)\n",
    "#node2.delete_self()\n",
    "\n",
    "ll = LinkedList(node1) # instanciation d'objet  de type Linkedlist ## head de list = node 1\n",
    "ll.__str__()"
   ]
  },
  {
   "cell_type": "code",
   "execution_count": 13,
   "metadata": {},
   "outputs": [
    {
     "data": {
      "text/plain": [
       "'1 -> 2 -> 3 -> 4 -> None'"
      ]
     },
     "execution_count": 13,
     "metadata": {},
     "output_type": "execute_result"
    }
   ],
   "source": [
    "llist=LinkedList\n",
    "l=[1,2,3,4]\n",
    "llist=llist.from_list(l)\n",
    "h=llist.__str__()\n",
    "h"
   ]
  },
  {
   "cell_type": "markdown",
   "metadata": {},
   "source": [
    "### Create a linked list from an array"
   ]
  },
  {
   "cell_type": "code",
   "execution_count": 17,
   "metadata": {},
   "outputs": [
    {
     "name": "stdout",
     "output_type": "stream",
     "text": [
      "1 -> 2 -> 3 -> 4 -> 5 -> 1000 -> None\n"
     ]
    }
   ],
   "source": [
    "L1 = LinkedList.from_list([1, 2, 3, 4, 5,1000])\n",
    "print(L1)"
   ]
  },
  {
   "cell_type": "markdown",
   "metadata": {},
   "source": [
    "### Get the number of elements in a linked list"
   ]
  },
  {
   "cell_type": "code",
   "execution_count": 16,
   "metadata": {},
   "outputs": [
    {
     "name": "stdout",
     "output_type": "stream",
     "text": [
      "3\n"
     ]
    }
   ],
   "source": [
    "def ll_size(ll):\n",
    "  N = ll.head\n",
    "  res = 0\n",
    "  while N:\n",
    "    res += 1\n",
    "    N = N.next\n",
    "  return res\n",
    "\n",
    "# Test\n",
    "L1 = LinkedList.from_list([1,2,5])\n",
    "print(ll_size(L1))"
   ]
  },
  {
   "cell_type": "markdown",
   "metadata": {},
   "source": [
    "### Get the number of times a specific element is repeated in a linked list"
   ]
  },
  {
   "cell_type": "code",
   "execution_count": 19,
   "metadata": {},
   "outputs": [
    {
     "name": "stdout",
     "output_type": "stream",
     "text": [
      "3\n",
      "1\n",
      "0\n"
     ]
    }
   ],
   "source": [
    "def ll_occ(ll, v):\n",
    "  N = ll.head\n",
    "  res = 0\n",
    "  while N:\n",
    "    if N.data == v:\n",
    "      res += 1\n",
    "    N = N.next\n",
    "  return res\n",
    "\n",
    "# Test\n",
    "L1 = LinkedList.from_list([1, 2, 3, 1, 1])\n",
    "print(ll_occ(L1, 1))\n",
    "print(ll_occ(L1, 2))\n",
    "print(ll_occ(L1, 4))"
   ]
  },
  {
   "cell_type": "markdown",
   "metadata": {},
   "source": [
    "### Verify if the elements in a linked list are increasing"
   ]
  },
  {
   "cell_type": "code",
   "execution_count": 22,
   "metadata": {},
   "outputs": [],
   "source": [
    "def ll_is_sorted(ll):\n",
    "  if ll.head is None:     \n",
    "    return True\n",
    "  N = ll.head\n",
    "  lastValue = N.data\n",
    "  N = N.next\n",
    "  while N:\n",
    "    if N.data < lastValue:\n",
    "      return False\n",
    "    lastValue = N.data\n",
    "    N = N.next\n",
    "    \n",
    "  return True\n",
    "\n",
    "# Test\n",
    "assert ll_is_sorted(LinkedList()) == True\n",
    "assert ll_is_sorted(LinkedList.from_list([1])) == True\n",
    "assert ll_is_sorted(LinkedList.from_list([1, 3, 2])) == False\n",
    "assert ll_is_sorted(LinkedList.from_list(range(10))) == True"
   ]
  },
  {
   "cell_type": "markdown",
   "metadata": {},
   "source": [
    "### Get the kth element"
   ]
  },
  {
   "cell_type": "code",
   "execution_count": 26,
   "metadata": {},
   "outputs": [
    {
     "name": "stdout",
     "output_type": "stream",
     "text": [
      "1\n",
      "2\n",
      "None\n"
     ]
    }
   ],
   "source": [
    "L1 = LinkedList.from_list([1, 2, 3, 4, 5])\n",
    "print(L1.get(0))\n",
    "print(L1.get(1))\n",
    "print(L1.get(10))"
   ]
  },
  {
   "cell_type": "markdown",
   "metadata": {},
   "source": [
    "### Insert elem at a specific index"
   ]
  },
  {
   "cell_type": "code",
   "execution_count": 27,
   "metadata": {},
   "outputs": [
    {
     "name": "stdout",
     "output_type": "stream",
     "text": [
      "2 -> 1 -> 2 -> 3 -> 4 -> 5 -> None\n",
      "2 -> 1 -> 2 -> 3 -> 4 -> 5 -> 6 -> None\n"
     ]
    }
   ],
   "source": [
    "L1 = LinkedList.from_list([1, 2, 3, 4, 5])\n",
    "L1.insert(0, 2)\n",
    "print(L1)\n",
    "L1.insert(6, 6)\n",
    "print(L1)"
   ]
  },
  {
   "cell_type": "code",
   "execution_count": 28,
   "metadata": {},
   "outputs": [
    {
     "name": "stdout",
     "output_type": "stream",
     "text": [
      "2 -> 1 -> 2 -> 3 -> 4 -> 5 -> 6 -> 9 -> None\n"
     ]
    }
   ],
   "source": [
    "L1.insert(7, 9)\n",
    "print(L1)"
   ]
  },
  {
   "cell_type": "markdown",
   "metadata": {},
   "source": [
    "### Delete node at index"
   ]
  },
  {
   "cell_type": "code",
   "execution_count": 30,
   "metadata": {},
   "outputs": [
    {
     "name": "stdout",
     "output_type": "stream",
     "text": [
      "0 -> 2 -> 9 -> None\n"
     ]
    }
   ],
   "source": [
    "L1 = LinkedList.from_list([0, 6, 2, 9])\n",
    "L1.delete(1)\n",
    "print(L1)"
   ]
  },
  {
   "cell_type": "code",
   "execution_count": null,
   "metadata": {},
   "outputs": [],
   "source": []
  },
  {
   "cell_type": "markdown",
   "metadata": {},
   "source": [
    "# 2. Stacks"
   ]
  },
  {
   "cell_type": "code",
   "execution_count": 32,
   "metadata": {},
   "outputs": [],
   "source": [
    "class Stack:\n",
    "    def __init__(self, capacity=20):\n",
    "        self.top = -1 ## when the stack is emptty\n",
    "        self.capacity = capacity\n",
    "        self.data = [None] * capacity\n",
    "\n",
    "    def is_full(self):\n",
    "        return self.top== self.capacity - 1  #l indeice du dernier element est capacity-1 === our stack is full\n",
    "    \n",
    "    def is_empty(self):\n",
    "        return self.top == -1\n",
    "    \n",
    "    def push(self, elem):\n",
    "        \"\"\"Push elem on top of stack.\n",
    "        Returns: True if successful, False otherwise.\n",
    "        \"\"\"\n",
    "        if self.is_full():\n",
    "            print(\"Can't push, stack is full!\")\n",
    "            return\n",
    "\n",
    "        self.top = self.top + 1    \n",
    "        self.data[self.top] = elem\n",
    "        \n",
    "    def pop(self):\n",
    "        if self.is_empty():\n",
    "            print( 'stack empty, cannot pop')\n",
    "            return \n",
    "        # we want to pop an element : first store it because pop return the elem then delete it from the stack\n",
    "        to_pop= self.data[self.top] # store it here\n",
    "        self.top = self.top -1\n",
    "        return to_pop\n",
    "    \n",
    "    def peak(self):\n",
    "        if self.is_empty():\n",
    "            print( 'stack emty, cannot pop')\n",
    "            return \n",
    "        \n",
    "        return self.data[self.top]"
   ]
  },
  {
   "cell_type": "code",
   "execution_count": 43,
   "metadata": {},
   "outputs": [
    {
     "name": "stdout",
     "output_type": "stream",
     "text": [
      "Can't push, stack is full!\n",
      "stack emty, cannot pop\n",
      "[1, 4, 3]\n"
     ]
    }
   ],
   "source": [
    "s = Stack(capacity=3) # constuctor # capacity =3\n",
    "s.push(1)\n",
    "s.push(2)\n",
    "s.push(3)\n",
    "s.push(4) # should not work because stack is full to maximum capacity\n",
    "\n",
    "assert s.pop()==3 # this is what we expect, if it is false we will get an error\n",
    "assert s.pop() == 2\n",
    "s.push(4)\n",
    "\n",
    "assert s.pop()==4\n",
    "assert s.pop()==1\n",
    "\n",
    "assert s.pop()== None\n",
    "print(s.data)"
   ]
  },
  {
   "cell_type": "markdown",
   "metadata": {},
   "source": [
    "#### Balanced parentheses : with stack"
   ]
  },
  {
   "cell_type": "code",
   "execution_count": 44,
   "metadata": {},
   "outputs": [],
   "source": [
    "expr = \"(((a + b) * (c + d))\"\n",
    "\n",
    "def is_balanced(expr):\n",
    "  s = Stack(capacity=len(expr))\n",
    "  for char in expr:\n",
    "    if char == \"(\":\n",
    "      s.push(char)\n",
    "    elif char == \")\":\n",
    "     if s.is_empty():\n",
    "        return False\n",
    "      \n",
    "     s.pop()\n",
    "  \n",
    "  return s.is_empty()"
   ]
  },
  {
   "cell_type": "code",
   "execution_count": 46,
   "metadata": {},
   "outputs": [
    {
     "name": "stdout",
     "output_type": "stream",
     "text": [
      "stack emty, cannot pop\n",
      "None\n"
     ]
    }
   ],
   "source": [
    "is_balanced(\"houda\") \n",
    "print(s.pop())"
   ]
  },
  {
   "cell_type": "code",
   "execution_count": null,
   "metadata": {},
   "outputs": [],
   "source": []
  }
 ],
 "metadata": {
  "kernelspec": {
   "display_name": "Python 3",
   "language": "python",
   "name": "python3"
  },
  "language_info": {
   "codemirror_mode": {
    "name": "ipython",
    "version": 3
   },
   "file_extension": ".py",
   "mimetype": "text/x-python",
   "name": "python",
   "nbconvert_exporter": "python",
   "pygments_lexer": "ipython3",
   "version": "3.7.7"
  }
 },
 "nbformat": 4,
 "nbformat_minor": 4
}
